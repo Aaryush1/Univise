{
 "cells": [
  {
   "cell_type": "markdown",
   "metadata": {},
   "source": [
    "## Simplistic LLM Knowledge Augmentation Model"
   ]
  },
  {
   "cell_type": "markdown",
   "metadata": {},
   "source": [
    "Set environment variable API key"
   ]
  },
  {
   "cell_type": "code",
   "execution_count": 28,
   "metadata": {},
   "outputs": [],
   "source": [
    "import os\n",
    "# Read in the API key, gitignored\n",
    "with open(\"API_KEY.txt\", \"r\") as file:\n",
    "    api_key = file.read().strip()\n",
    "# Set environment variable\n",
    "os.environ[\"OPENAI_API_KEY\"] = api_key"
   ]
  },
  {
   "cell_type": "code",
   "execution_count": 25,
   "metadata": {},
   "outputs": [],
   "source": [
    "from llama_index import SimpleDirectoryReader, LLMPredictor, ServiceContext, PromptHelper, VectorStoreIndex\n",
    "from langchain.chat_models import ChatOpenAI\n",
    "# Auxiliary functions\n",
    "import model_assist as ma"
   ]
  },
  {
   "cell_type": "markdown",
   "metadata": {},
   "source": [
    "Configure model attributes"
   ]
  },
  {
   "cell_type": "code",
   "execution_count": 26,
   "metadata": {},
   "outputs": [],
   "source": [
    "def configure_model(max_input_size = 4096,\n",
    "    num_outputs = 512,\n",
    "    max_chunk_overlap = .5,\n",
    "    chunk_size_limit = 600):\n",
    "    \n",
    "    # Configure the prompt specifications\n",
    "    prompt_helper = PromptHelper(max_input_size, num_outputs, max_chunk_overlap, chunk_size_limit=chunk_size_limit)\n",
    "    # Configure the model and temperature\n",
    "    llm_predictor = LLMPredictor(llm=ChatOpenAI(temperature=0.4, model_name=\"gpt-3.5-turbo\", max_tokens=num_outputs))\n",
    "    # Wrap both within the model\n",
    "    service_context = ServiceContext.from_defaults(llm_predictor=llm_predictor, prompt_helper=prompt_helper)\n",
    "    # Read in documents\n",
    "    documents = SimpleDirectoryReader('data').load_data()\n",
    "    # Set up the index\n",
    "    index = VectorStoreIndex.from_documents(documents, service_context = service_context)\n",
    "\n",
    "    return index"
   ]
  },
  {
   "cell_type": "markdown",
   "metadata": {},
   "source": [
    "Instanciate query engine from the index"
   ]
  },
  {
   "cell_type": "code",
   "execution_count": 29,
   "metadata": {},
   "outputs": [],
   "source": [
    "index = configure_model()\n",
    "query_engine = index.as_query_engine()"
   ]
  },
  {
   "cell_type": "markdown",
   "metadata": {},
   "source": [
    "Ask questions to query engine"
   ]
  },
  {
   "cell_type": "code",
   "execution_count": 41,
   "metadata": {},
   "outputs": [
    {
     "data": {
      "text/plain": [
       "'A universal quantifier is a logical symbol that represents a statement that is true for every element in a given set. It is often denoted by the symbol (∀). For example, the statement \"For every student at UW-Madison, they have access to the library\" can be represented using a universal quantifier.\\n\\nHowever, based on the provided context information, there is no direct mention of a universal quantifier in relation to the University of Wisconsin-Madison. The context primarily focuses on the university\\'s overview, academic excellence, popular programs and schools, research opportunities, and student life.'"
      ]
     },
     "execution_count": 41,
     "metadata": {},
     "output_type": "execute_result"
    }
   ],
   "source": [
    "response = query_engine.query(\"What is a universal quantifier? Does this relate to the University of Madison-Wisconsin?\")\n",
    "response.response"
   ]
  },
  {
   "cell_type": "markdown",
   "metadata": {},
   "source": [
    "JSON document loader assistant"
   ]
  },
  {
   "cell_type": "code",
   "execution_count": 36,
   "metadata": {},
   "outputs": [],
   "source": [
    "directory = \"data\"\n",
    "json_string = ma.json_loader(directory)"
   ]
  },
  {
   "cell_type": "markdown",
   "metadata": {},
   "source": [
    "Wrap in text prompt, this will be uploaded as the `documents` part"
   ]
  },
  {
   "cell_type": "code",
   "execution_count": 40,
   "metadata": {},
   "outputs": [
    {
     "data": {
      "text/plain": [
       "\"\\nYou are an academic advisor for the University of Wisconsin-Madison, here to answer students' questions and help them choose classes for the Data Science major. \\nThe classes are in a JSON heirarchical format.\\n[]\\nIf a student does not mention anything related to course data. Briefly answer their question, but mention that they are off-topic and the purpose of this conversation is for course recommendations. \\nIf there is insufficient information to give a student a good recommendation, ask the student for more information/preference.\\n\""
      ]
     },
     "execution_count": 40,
     "metadata": {},
     "output_type": "execute_result"
    }
   ],
   "source": [
    "prompt = \"\"\n",
    "preface = \"\"\"\n",
    "You are an academic advisor for the University of Wisconsin-Madison, here to answer students' questions and help them choose classes for the Data Science major. \n",
    "The classes are in a JSON heirarchical format.\n",
    "\"\"\"\n",
    "class_data = f\"Here is the class data: {json_string}\"\n",
    "corrections = \"\"\"\n",
    "If a student does not mention anything related to course data. Briefly answer their question, but mention that they are off-topic and the purpose of this conversation is for course recommendations. \n",
    "If there is insufficient information to give a student a good recommendation, ask the student for more information/preference.\n",
    "\"\"\"\n",
    "final_prompt = prompt + preface + class_data + corrections\n",
    "final_prompt\n"
   ]
  }
 ],
 "metadata": {
  "kernelspec": {
   "display_name": "Python 3",
   "language": "python",
   "name": "python3"
  },
  "language_info": {
   "codemirror_mode": {
    "name": "ipython",
    "version": 3
   },
   "file_extension": ".py",
   "mimetype": "text/x-python",
   "name": "python",
   "nbconvert_exporter": "python",
   "pygments_lexer": "ipython3",
   "version": "3.11.4"
  },
  "orig_nbformat": 4
 },
 "nbformat": 4,
 "nbformat_minor": 2
}
